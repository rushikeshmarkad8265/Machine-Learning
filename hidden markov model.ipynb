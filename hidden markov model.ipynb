{
  "nbformat": 4,
  "nbformat_minor": 0,
  "metadata": {
    "colab": {
      "provenance": [],
      "include_colab_link": true
    },
    "kernelspec": {
      "name": "python3",
      "display_name": "Python 3"
    },
    "language_info": {
      "name": "python"
    }
  },
  "cells": [
    {
      "cell_type": "markdown",
      "metadata": {
        "id": "view-in-github",
        "colab_type": "text"
      },
      "source": [
        "<a href=\"https://colab.research.google.com/github/rushikeshmarkad8265/Machine-Learning/blob/main/hidden%20markov%20model.ipynb\" target=\"_parent\"><img src=\"https://colab.research.google.com/assets/colab-badge.svg\" alt=\"Open In Colab\"/></a>"
      ]
    },
    {
      "cell_type": "code",
      "source": [
        "#Rushikesh Markadp\n",
        "#ROLL NO: CS3162\n",
        "import numpy as np\n",
        "import matplotlib.pyplot as plt\n",
        "import seaborn as sns\n",
        "from hmmlearn import hmm"
      ],
      "metadata": {
        "id": "x_3yVtgKUel4"
      },
      "execution_count": null,
      "outputs": []
    },
    {
      "cell_type": "code",
      "source": [
        "from google.colab import drive\n",
        "drive.mount('/content/drive')"
      ],
      "metadata": {
        "id": "go5LdWbp_WlV"
      },
      "execution_count": null,
      "outputs": []
    },
    {
      "cell_type": "code",
      "source": [
        "states = [\"Sunny\", \"Rainy\"]\n",
        "n_states = len(states)\n",
        "print('Number of hidden states :',n_states)\n",
        "observations = [\"Dry\", \"Wet\"]\n",
        "n_observations = len(observations)\n",
        "print('Number of observations :',n_observations)"
      ],
      "metadata": {
        "colab": {
          "base_uri": "https://localhost:8080/"
        },
        "id": "D6VeRm0uU6HG",
        "outputId": "d05ad631-65a7-4b67-f86d-5ddd108f679e"
      },
      "execution_count": null,
      "outputs": [
        {
          "output_type": "stream",
          "name": "stdout",
          "text": [
            "Number of hidden states : 2\n",
            "Number of observations : 2\n"
          ]
        }
      ]
    },
    {
      "cell_type": "code",
      "source": [
        "state_probability = np.array([0.6, 0.4])\n",
        "print(\"State probability: \", state_probability)\n",
        "transition_probability = np.array([[0.7, 0.3],\n",
        "[0.3, 0.7]])\n",
        "print(\"\\nTransition probability:\\n\", transition_probability)\n",
        "emission_probability= np.array([[0.9, 0.1],\n",
        "[0.2, 0.8]])\n",
        "print(\"\\nEmission probability:\\n\", emission_probability)"
      ],
      "metadata": {
        "colab": {
          "base_uri": "https://localhost:8080/"
        },
        "id": "XpwW3MhxVAoK",
        "outputId": "6e72b2eb-7bb1-4865-9930-002f00eec580"
      },
      "execution_count": null,
      "outputs": [
        {
          "output_type": "stream",
          "name": "stdout",
          "text": [
            "State probability:  [0.6 0.4]\n",
            "\n",
            "Transition probability:\n",
            " [[0.7 0.3]\n",
            " [0.3 0.7]]\n",
            "\n",
            "Emission probability:\n",
            " [[0.9 0.1]\n",
            " [0.2 0.8]]\n"
          ]
        }
      ]
    },
    {
      "cell_type": "code",
      "source": [
        "model = hmm.CategoricalHMM(n_components=n_states)\n",
        "model.startprob_ = state_probability\n",
        "model.transmat_ = transition_probability\n",
        "model.emissionprob_ = emission_probability"
      ],
      "metadata": {
        "id": "bgdXSW75VIfh"
      },
      "execution_count": null,
      "outputs": []
    },
    {
      "cell_type": "code",
      "source": [
        "observations_sequence = np.array([0, 0, 1]).reshape(-1, 1)\n",
        "observations_sequence"
      ],
      "metadata": {
        "colab": {
          "base_uri": "https://localhost:8080/"
        },
        "id": "JZV_nHGcVLKa",
        "outputId": "35a3607f-a3d1-4774-cea3-04addfef5059"
      },
      "execution_count": null,
      "outputs": [
        {
          "output_type": "execute_result",
          "data": {
            "text/plain": [
              "array([[0],\n",
              "       [0],\n",
              "       [1]])"
            ]
          },
          "metadata": {},
          "execution_count": 8
        }
      ]
    },
    {
      "cell_type": "code",
      "source": [
        "hidden_states = model.predict(observations_sequence)\n",
        "print(\"Most likely hidden states:\", hidden_states)\n"
      ],
      "metadata": {
        "colab": {
          "base_uri": "https://localhost:8080/"
        },
        "id": "GCIksObvVMr6",
        "outputId": "e557dc9f-62e8-404e-95d1-43931b6e088d"
      },
      "execution_count": null,
      "outputs": [
        {
          "output_type": "stream",
          "name": "stdout",
          "text": [
            "Most likely hidden states: [0 0 1]\n"
          ]
        }
      ]
    },
    {
      "cell_type": "code",
      "source": [
        "log_probability, hidden_states = model.decode(observations_sequence,\n",
        "lengths=len(observations_sequence),\n",
        "algorithm='viterbi' )"
      ],
      "metadata": {
        "id": "49yJSCbrVQRH"
      },
      "execution_count": null,
      "outputs": []
    },
    {
      "cell_type": "code",
      "source": [
        "print('Log Probability :',log_probability)\n",
        "print(\"Most likely hidden states:\", hidden_states)"
      ],
      "metadata": {
        "colab": {
          "base_uri": "https://localhost:8080/"
        },
        "id": "Me4YCnfIVkkg",
        "outputId": "eb7a9661-c645-451f-8c39-5bb3ca83a092"
      },
      "execution_count": null,
      "outputs": [
        {
          "output_type": "stream",
          "name": "stdout",
          "text": [
            "Log Probability : -2.5053379546605217\n",
            "Most likely hidden states: [0 0 1]\n"
          ]
        }
      ]
    },
    {
      "cell_type": "code",
      "source": [
        "observations_sequence = [0, 0, 1]"
      ],
      "metadata": {
        "id": "cTxqa5zYVoSe"
      },
      "execution_count": null,
      "outputs": []
    },
    {
      "cell_type": "code",
      "source": [
        "forward_prob = forward(observations_sequence, transition_probability,\n",
        "                       emission_probability,state_probability)\n",
        "viterbi_prob, viterbi_path = viterbi(observations_sequence,transition_probability,\n",
        "                                     emission_probability,state_probability)\n",
        "print(\"Forward Algorithm: Probability of Observations =\", forward_prob)\n",
        "print(\"Viterbi Algorithm: Best Path Probability =\", viterbi_prob)\n",
        "print(\"Most Likely State Sequence =\", viterbi_path)\n"
      ],
      "metadata": {
        "colab": {
          "base_uri": "https://localhost:8080/"
        },
        "id": "OcbTTWJEVp3d",
        "outputId": "ba6ac094-ff31-4213-c091-ebc56943e74e"
      },
      "execution_count": null,
      "outputs": [
        {
          "output_type": "stream",
          "name": "stdout",
          "text": [
            "Forward Algorithm: Probability of Observations = 0.137882\n",
            "Viterbi Algorithm: Best Path Probability = 0.081648\n",
            "Most Likely State Sequence = ['Sunny', 'Sunny', 'Rainy']\n"
          ]
        }
      ]
    },
    {
      "cell_type": "code",
      "source": [
        "observations_sequence = np.array([0, 1, 0, 1, 0, 0]).reshape(-1, 1)\n",
        "observations_sequence"
      ],
      "metadata": {
        "colab": {
          "base_uri": "https://localhost:8080/"
        },
        "id": "5U0f3jKwV30z",
        "outputId": "34ad6feb-1b09-41d8-a27b-ae3cc187c796"
      },
      "execution_count": null,
      "outputs": [
        {
          "output_type": "execute_result",
          "data": {
            "text/plain": [
              "array([[0],\n",
              "       [1],\n",
              "       [0],\n",
              "       [1],\n",
              "       [0],\n",
              "       [0]])"
            ]
          },
          "metadata": {},
          "execution_count": 15
        }
      ]
    },
    {
      "cell_type": "code",
      "source": [
        "# Predict the most likely sequence of hidden states\n",
        "hidden_states = model.predict(observations_sequence)\n",
        "print(\"Most likely hidden states:\", hidden_states)"
      ],
      "metadata": {
        "colab": {
          "base_uri": "https://localhost:8080/"
        },
        "id": "qCZUNLuWWBFg",
        "outputId": "73bdbb97-dc59-44a2-d8ca-9e4b5776d3bf"
      },
      "execution_count": null,
      "outputs": [
        {
          "output_type": "stream",
          "name": "stdout",
          "text": [
            "Most likely hidden states: [0 1 1 1 0 0]\n"
          ]
        }
      ]
    },
    {
      "cell_type": "code",
      "source": [
        "log_probability, hidden_states = model.decode(observations_sequence,\n",
        "lengths =len(observations_sequence),\n",
        "algorithm ='viterbi' )"
      ],
      "metadata": {
        "id": "8vpa9hINWFiC"
      },
      "execution_count": null,
      "outputs": []
    },
    {
      "cell_type": "code",
      "source": [
        "print('Log Probability :',log_probability)\n",
        "print(\"Most likely hidden states:\", hidden_states)"
      ],
      "metadata": {
        "colab": {
          "base_uri": "https://localhost:8080/"
        },
        "id": "4-j4fTJcWLcH",
        "outputId": "ba4a0d8e-8401-4434-cf28-36217db94deb"
      },
      "execution_count": null,
      "outputs": [
        {
          "output_type": "stream",
          "name": "stdout",
          "text": [
            "Log Probability : -6.360602626270058\n",
            "Most likely hidden states: [0 1 1 1 0 0]\n"
          ]
        }
      ]
    },
    {
      "cell_type": "code",
      "source": [
        "sns.set_style(\"whitegrid\")\n",
        "plt.plot(hidden_states, '-o', label=\"Hidden State\")\n",
        "plt.xlabel('Time step')\n",
        "plt.ylabel('Most Likely Hidden State')\n",
        "plt.title(\"Sunny or Rainy\")\n",
        "plt.legend()\n",
        "plt.show()"
      ],
      "metadata": {
        "colab": {
          "base_uri": "https://localhost:8080/",
          "height": 416
        },
        "id": "HRjyuWblWPkg",
        "outputId": "5e14f19c-969a-4d33-fedd-5151a548818a"
      },
      "execution_count": null,
      "outputs": [
        {
          "output_type": "display_data",
          "data": {
            "text/plain": [
              "<Figure size 640x480 with 1 Axes>"
            ],
            "image/png": "[encoded data removed]"
          },
          "metadata": {}
        }
      ]
    },
    {
      "cell_type": "code",
      "source": [
        "# Forward algorithm: probability of the observation sequence\n",
        "log_prob_forward = model.score(observations_sequence)\n",
        "print(\"Log Probability (Forward Algorithm):\", log_prob_forward)\n",
        "# Viterbi algorithm: most likely hidden states\n",
        "log_prob_viterbi, hidden_states = model.decode(observations_sequence,algorithm=\"viterbi\")\n",
        "print(\"Log Probability (Viterbi Algorithm):\", log_prob_viterbi)\n",
        "print(\"Most Likely Hidden States:\", hidden_states)\n"
      ],
      "metadata": {
        "colab": {
          "base_uri": "https://localhost:8080/"
        },
        "id": "FuICzluPWWT3",
        "outputId": "d1686a97-9f0a-4e29-df89-75b339d3b65a"
      },
      "execution_count": null,
      "outputs": [
        {
          "output_type": "stream",
          "name": "stdout",
          "text": [
            "Log Probability (Forward Algorithm): -4.547423454363216\n",
            "Log Probability (Viterbi Algorithm): -6.360602626270058\n",
            "Most Likely Hidden States: [0 1 1 1 0 0]\n"
          ]
        }
      ]
    },
    {
      "cell_type": "code",
      "source": [
        "#Second Example\n",
        "states = [\"Rainy\", \"Sunny\"]\n",
        "observations = [\"Walk\", \"Shop\", \"Clean\"]\n",
        "obs_seq = [0, 1, 2] # Walk=0, Shop=1, Clean=2"
      ],
      "metadata": {
        "id": "k5scdDstXPl6"
      },
      "execution_count": null,
      "outputs": []
    },
    {
      "cell_type": "code",
      "source": [
        "pi = np.array([0.6, 0.4]) # Initial probabilities\n",
        "A = np.array([[0.7, 0.3],\n",
        "              [0.4, 0.6]])    # Transition matrix\n",
        "B = np.array([[0.1, 0.4, 0.5],\n",
        "              [0.6, 0.3, 0.1]])   # Emission matrix"
      ],
      "metadata": {
        "id": "plxbquACXSt4"
      },
      "execution_count": null,
      "outputs": []
    },
    {
      "cell_type": "code",
      "source": [
        "def forward(obs_seq, A, B, pi):\n",
        "    N = len(A) # number of states\n",
        "    T = len(obs_seq) # length of observation sequence\n",
        "    alpha = np.zeros((T, N))\n",
        "    # Initialization\n",
        "    alpha[0] = pi * B[:, obs_seq[0]]\n",
        "    # Induction\n",
        "    for t in range(1, T):\n",
        "        for j in range(N):\n",
        "            alpha[t, j] = np.sum(alpha[t-1] * A[:, j]) * B[j, obs_seq[t]]\n",
        "    # Termination\n",
        "    return np.sum(alpha[T-1])"
      ],
      "metadata": {
        "id": "jwk_W1OXX4N0"
      },
      "execution_count": null,
      "outputs": []
    },
    {
      "cell_type": "code",
      "source": [
        "def viterbi(obs_seq, A, B, pi):\n",
        "    N = len(A)\n",
        "    T = len(obs_seq)\n",
        "    delta = np.zeros((T, N))\n",
        "    psi = np.zeros((T, N), dtype=int)\n",
        "    # Initialization\n",
        "    delta[0] = pi * B[:, obs_seq[0]]\n",
        "    # Recursion\n",
        "    for t in range(1, T):\n",
        "        for j in range(N):\n",
        "            seq_probs = delta[t-1] * A[:, j]\n",
        "            psi[t, j] = np.argmax(seq_probs)\n",
        "            delta[t, j] = np.max(seq_probs) * B[j, obs_seq[t]]\n",
        "    # Termination\n",
        "    best_path_prob = np.max(delta[T-1])\n",
        "    best_last_state = np.argmax(delta[T-1])\n",
        "    # Backtracking\n",
        "    best_path = [best_last_state]\n",
        "    for t in range(T-1, 0, -1):\n",
        "        best_last_state = psi[t, best_last_state]\n",
        "        best_path.insert(0, best_last_state)\n",
        "    return best_path_prob, [states[i] for i in best_path]"
      ],
      "metadata": {
        "id": "H1TZw98uYMIv"
      },
      "execution_count": null,
      "outputs": []
    },
    {
      "cell_type": "code",
      "source": [
        "forward_prob = forward(obs_seq, A, B, pi)\n",
        "viterbi_prob, viterbi_path = viterbi(obs_seq, A, B, pi)\n",
        "print(\"Forward Algorithm: Probability of Observations =\", forward_prob)\n",
        "print(\"Viterbi Algorithm: Best Path Probability =\", viterbi_prob)\n",
        "print(\"Most Likely State Sequence =\", viterbi_path)\n"
      ],
      "metadata": {
        "colab": {
          "base_uri": "https://localhost:8080/"
        },
        "id": "l-dZeOdlYaGW",
        "outputId": "8cb76fca-1986-4774-f18b-7653497633fc"
      },
      "execution_count": null,
      "outputs": [
        {
          "output_type": "stream",
          "name": "stdout",
          "text": [
            "Forward Algorithm: Probability of Observations = 0.033612\n",
            "Viterbi Algorithm: Best Path Probability = 0.01344\n",
            "Most Likely State Sequence = ['Sunny', 'Rainy', 'Rainy']\n"
          ]
        }
      ]
    }
  ]
}